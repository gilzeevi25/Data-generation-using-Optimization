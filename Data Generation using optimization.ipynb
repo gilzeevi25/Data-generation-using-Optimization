{
 "cells": [
  {
   "cell_type": "markdown",
   "metadata": {},
   "source": [
    "## Data generation using Linear & NonLinear optimization"
   ]
  },
  {
   "cell_type": "markdown",
   "metadata": {},
   "source": [
    "**disclaimer:**\n",
    "\n",
    "The following assignment was handled on Statistics & Data analysis course taught in IDC master's studies.\n",
    "The following question is being used to demonstrate the how to apply mathematical tools into a pure statistics problem insead of solving in a more traditional way by generating skewed distributions."
   ]
  },
  {
   "cell_type": "markdown",
   "metadata": {},
   "source": [
    "### Rent distributions in Randomistan\n",
    "The state of Randomistan conducted a survey to study the distribution of rent paid in two neighboring towns, Stochastic Heights and Random Grove, to be denoted SH and RG.<br> \n",
    "\n",
    "Here are some findings of the survey:\n",
    "* The population of SH and RG is 16,000 and 22,000 respectively. <br>\n",
    "* The mean rent in SH and RG is 6300RCU and 4200RCU respectively.\n",
    "* The median rent is 4600RCU in both towns.\n",
    "* The IQR of the rent is smaller in SH than in RG.\n",
    "\n",
    "All data generated in this question needs to be consistent with these findings.\n",
    "\n",
    "\n",
    "The survey also examined the per household income (PHI) in these two places.<br>\n",
    "\n",
    "It found that:<br>\n",
    "* The mean of PHI in SH is 12500 and in RG is 8500.\n",
    "* The median is 12000 in SH and 8000 in RG.\n",
    "* The covariance of the rent and the PHI was observed to be as in the formula below with $\\alpha=97\\%$ and $\\alpha=89\\%$ in SH and in RG respectively.<br><br>\n",
    "$$Cov(rent, PHI) = \\alpha * \\sqrt{Var(rent)} * \\sqrt{Var(PHI)}$$\n",
    "\n",
    "#### 2.A\n",
    "Draw histograms that describe 2 different scenarii of possible distributions of rent in the two towns.\u000b",
    "Your histograms should:<br>\n",
    "* Use bins of 100RCU each.\n",
    "* Have at least 10 non zero bins.\n",
    "\n",
    "#### 2.B\n",
    "Draw a histogram of a third scenario with the same properties. <br>\n",
    "In addition, in this scenario the rent in SH should have a higher variance than the rent in RG.\n",
    "\n",
    "#### 2.C\n",
    "Produce rent and PHI data for the two cities, that is consistent with these findings. The covariances in your data can deviate by up to 1% from the numbers given $\\alpha$."
   ]
  },
  {
   "cell_type": "markdown",
   "metadata": {},
   "source": [
    "$---------------------------------------------------------------$"
   ]
  },
  {
   "cell_type": "markdown",
   "metadata": {},
   "source": [
    "**SOLUTION:**\n",
    "\n",
    "* The approach i decided to take in this specific question was a rather unique mathematical way - optimization minimization problem given subjected constraints.\n",
    "\n",
    "* I used SciPy Optimize library and dןvided into 3 \"modes\" when each \"mode\" solves different optimization problem.\n",
    "\n",
    "* the reason that optimization solving works here and generates different sample for each iteration is the fact that we are trying to solve Optimization problem with initial solutions. \n",
    "\n",
    "* for these kind of problems - the solver takes an initial guessed solution and then finds LOCAL_MINIMA and that is the reason that this mathematical methods generates each iteration different solution with given constraints.\n",
    "\n",
    "* I solved a mathematical problem for a SAMPLE solely and then multiplied the sample to get a population. "
   ]
  },
  {
   "cell_type": "markdown",
   "metadata": {
    "id": "nT8HvLQr7ews"
   },
   "source": [
    "**first mode -> \"caged\": fully constrained solution**"
   ]
  },
  {
   "cell_type": "markdown",
   "metadata": {
    "id": "oGOkjNCop_Hs"
   },
   "source": [
    "\\begin{equation*}\n",
    "\\begin{aligned}\n",
    "& \\underset{xi}{\\text{minimize}}\n",
    "& & \\hspace{0.8cm}\\sum_{i=1}^{sample} X_i\\\\\n",
    "& \\text{subject to}\n",
    "& & 1)\\hspace{0.5cm} \\frac{\\sum_{i=1}^{sample} X_i}{n} \\leq  \\bar{y}, \\; i = 1, \\ldots, sample.size\\\\\n",
    "& & & 2)\\hspace{0.5cm}median(X_i) \\leq \\tilde{y}, \\; i = 1, \\ldots, sample.\n",
    "size\\\\\n",
    "& & & 3)\\hspace{0.5cm}Q_{0.75}(X_i)-Q_{0.25}(X_i)\\geq IQR(y) + Const, \\; i = 1, \\ldots,sample.\\\\\n",
    "& & & 4)\\hspace{0.5cm}Var(X_i)\\leq S(y)^2, \\; i = 1, \\ldots,sample.\\\\\n",
    "\\end{aligned}\n",
    "\\end{equation*}"
   ]
  },
  {
   "cell_type": "markdown",
   "metadata": {
    "id": "kkmpyrI77rjR"
   },
   "source": [
    "**second mode -> \"reg\": regular constrained solution - mean and median only**"
   ]
  },
  {
   "cell_type": "markdown",
   "metadata": {
    "id": "CGOfIVF77zt_"
   },
   "source": [
    "\\begin{equation*}\n",
    "\\begin{aligned}\n",
    "& \\underset{xi}{\\text{minimize}}\n",
    "& & \\hspace{0.8cm}\\sum_{i=1}^{sample} X_i\\\\\n",
    "& \\text{subject to}\n",
    "& & 1)\\hspace{0.5cm} \\frac{\\sum_{i=1}^{sample} X_i}{n} \\leq  \\bar{y}, \\; i = 1, \\ldots, sample.size\\\\\n",
    "& & & 2)\\hspace{0.5cm}median(X_i) \\leq \\tilde{y}, \\; i = 1, \\ldots, sample.\n",
    "size\\\\\n",
    "\\end{aligned}\n",
    "\\end{equation*}"
   ]
  },
  {
   "cell_type": "markdown",
   "metadata": {
    "id": "dyP9yc8k7lHI"
   },
   "source": [
    "**third  mode -> \"covar\": connect and create a relationship between X and y by subjecting an empirical covariance constrain**"
   ]
  },
  {
   "cell_type": "markdown",
   "metadata": {
    "id": "-qDUaLst-r27"
   },
   "source": [
    "\\begin{equation*}\n",
    "\\begin{aligned}\n",
    "& \\underset{xi}{\\text{minimize}}\n",
    "& & \\hspace{0.8cm}\\sum_{i=1}^{sample} X_i\\\\\n",
    "& \\text{subject to}\n",
    "& & 1)\\hspace{0.5cm} \\frac{\\sum_{i=1}^{sample} X_i}{n} \\leq  \\bar{y}, \\; i = 1, \\ldots, sample.size\\\\\n",
    "& & & 2)\\hspace{0.5cm}median(X_i) \\leq \\tilde{y}, \\; i = 1, \\ldots, sample.\n",
    "size\\\\\n",
    "& & & 3)\\hspace{0.5cm}Cov(X_i,y)\\leq \\alpha * \\sqrt{Var(X_i)} * \\sqrt{Var(y)}\n",
    "\\\n",
    "\\end{aligned}\n",
    "\\end{equation*}"
   ]
  },
  {
   "cell_type": "code",
   "execution_count": 1,
   "metadata": {},
   "outputs": [],
   "source": [
    "import numpy as np\n",
    "import pandas as pd\n",
    "import matplotlib.pyplot as plt\n",
    "import seaborn as sns\n",
    "from scipy import stats\n",
    "from  statistics import median\n",
    "from scipy.optimize import minimize\n",
    "# Ignore warnings\n",
    "import warnings\n",
    "warnings.filterwarnings('ignore')\n",
    "plt.rcParams['figure.figsize'] = (8.0,6.0) "
   ]
  },
  {
   "cell_type": "markdown",
   "metadata": {},
   "source": [
    "# A demonstration how to formulate an optimization problem with constraints on python with Scipy library:"
   ]
  },
  {
   "cell_type": "code",
   "execution_count": 2,
   "metadata": {},
   "outputs": [],
   "source": [
    "def generate_sample(samp_size, avg,med,c=0,min_iqr=0,vari=0,data=0,alpha=0,mode = \"reg\"): #generating a sample of  floats which answer specific constraints such as specific mean, median, IQR, var, covar\n",
    "    a = None\n",
    "    if mode == \"caged\": # optimization \"caged\" mode means that i solve opt' problem with maximum constraints such as mean,median,iqr,variance\n",
    "        def objective(x,avg,med,min_iqr,vari,c):\n",
    "            return x.sum()\n",
    "        def constraint_avg(x):\n",
    "            return x.mean() - avg\n",
    "        def constraint_med(x):\n",
    "            return np.median(x) - med\n",
    "        def constraint_iqr(x):\n",
    "            return -stats.iqr(x)+ min_iqr+c\n",
    "        def constraint_var(x):\n",
    "            return x.var() -vari \n",
    "        cons = [{'type':'eq', 'fun': constraint_avg},{'type':'eq', 'fun': constraint_med},{'type':'ineq', 'fun': constraint_iqr},{'type':'ineq', 'fun': constraint_var},]\n",
    "        bounds = [(0, None)]\n",
    "        bounds*= samp_size  # in this kind of nonlinear optimization, the final solution locate local minima,and therefore affected by intial solution     \n",
    "        result = minimize( objective,np.random.randint(100,10000, size=samp_size).tolist(), constraints=cons,args=(avg,med,min_iqr,vari,c),bounds=bounds)\n",
    "        a = np.array(result.x)\n",
    "        \n",
    "        \n",
    "    if mode == \"reg\":  # optimization \"reg\" (regular) mode means that i solve opt' problem with minimum constrains - only mean and avg\n",
    "        def objective(x,avg,med):\n",
    "            return x.sum()\n",
    "        def constraint_avg(x):\n",
    "            return x.mean() - avg\n",
    "        def constraint_med(x):\n",
    "            return np.median(x) - med\n",
    "        cons = [{'type':'eq', 'fun': constraint_avg},{'type':'eq', 'fun': constraint_med}]\n",
    "        bounds = [(0, None)]\n",
    "        bounds*= samp_size\n",
    "        result = minimize( objective,np.random.randint(100,10000, size=samp_size).tolist(), constraints=cons,args=(avg,med),bounds=bounds)\n",
    "        a = np.array(result.x)\n",
    "        \n",
    "        \n",
    "    if mode == \"covar\":  # optimization \"covar\"  mode means that i add a constrain on the covariance and for that i get an input of alpha and additional data\n",
    "        def objective(x,avg,med,data,alpha):\n",
    "            return x.sum()\n",
    "        def constraint_avg(x):\n",
    "            return x.mean() - avg\n",
    "        def constraint_med(x):\n",
    "            return np.median(x) - med\n",
    "        def constraint_covar(x):\n",
    "            return np.cov(x, data)[0][1] - alpha * (np.var(x)**0.5) * (np.var(data)**0.5)\n",
    "        # in this kind of nonlinear optimization, the final solution locate local minima,and therefore affected by intial solution\n",
    "        cons = [{'type':'eq', 'fun': constraint_avg},{'type':'eq', 'fun': constraint_med},{'type':'eq', 'fun': constraint_covar}]\n",
    "        bounds = [(0, None)]\n",
    "        bounds*= samp_size\n",
    "        result = minimize( objective,np.random.randint(100,10000, size=samp_size).tolist(), constraints=cons,args=(avg,med,data,alpha),bounds=bounds)\n",
    "        a = np.array(result.x)\n",
    "        \n",
    "    return a"
   ]
  },
  {
   "cell_type": "markdown",
   "metadata": {},
   "source": [
    "## end of optimization formulation"
   ]
  },
  {
   "cell_type": "code",
   "execution_count": 3,
   "metadata": {},
   "outputs": [],
   "source": [
    "def round_to_mean(a): # a function who gets a float sample, rounds it, and add/reduce ones in order to *try* to converge to the floats mean value\n",
    "    b = np.round(a,0).copy()\n",
    "    if b.mean() > a.mean() :\n",
    "        b[0]-=1\n",
    "        if abs(b.mean()-a.mean()) >0.0000001:\n",
    "            b[-1]-=1\n",
    "            return b\n",
    "        return b\n",
    "    else:\n",
    "        b[0]+=1\n",
    "        if abs(b.mean()-a.mean()) >0.0000001:\n",
    "            b[-1]+=1\n",
    "            return b\n",
    "        return b\n",
    "    return b"
   ]
  },
  {
   "cell_type": "code",
   "execution_count": 4,
   "metadata": {},
   "outputs": [],
   "source": [
    "def generate_int_sample(samp_size, avg,med,c=0,min_iqr=0,vari=0,data=0,alpha=0,mode = \"reg\"): #taking the floats generated from generate_sample and round them such that the mean is preserved\n",
    "    flag = False\n",
    "    num = 0\n",
    "    while flag!= True and num< 1000:\n",
    "        sample = generate_sample(samp_size, avg,med,c,min_iqr,vari,data,alpha,mode)\n",
    "        sample_int = round_to_mean(sample)\n",
    "        sample_int_mean = sample_int.mean()\n",
    "        if abs(avg-sample_int_mean)< 0.0001: #  we demand really small epsilon from the mean\n",
    "            flag = True\n",
    "        num+=1\n",
    "    if num == 1000:\n",
    "        print(\"NO convergence\")\n",
    "        return None\n",
    "    return sample_int"
   ]
  },
  {
   "cell_type": "code",
   "execution_count": 5,
   "metadata": {},
   "outputs": [],
   "source": [
    "\n",
    "def create_hist(lis,population,town,num_title,detail = True):\n",
    "    prop=int(population/lis.size) \n",
    "    lis = lis.tolist()\n",
    "    lis*=prop\n",
    "    data = pd.DataFrame(lis)\n",
    "    if detail:\n",
    "        med = data.median()\n",
    "        mean = data.mean()\n",
    "        iqr = stats.iqr(data)\n",
    "        var = round(data.var(),3)\n",
    "        print(\"{0}, Scenario {1}\".format(town,num_title))\n",
    "        print(\"Median:{0}\\nMean:{1}\\nIQR:{2}\\nVariance:{3}\".format(med[0],mean[0],iqr,var[0]))\n",
    "        print(\"*\"*30)\n",
    "    return data"
   ]
  },
  {
   "cell_type": "code",
   "execution_count": 6,
   "metadata": {},
   "outputs": [],
   "source": [
    "def Generate_higher_iqr(samp_size,SH_1,RG_1,iqr_sh,iqr_rg,const): # a function to iterate of generatation of higher iqr , because this constrain might diverge from time to time in nonlinear with first guessed solutions optimizations\n",
    "    while (stats.iqr(SH_1) < stats.iqr(RG_1)) == False:\n",
    "        SH_1 = generate_int_sample(samp_size,6300,4600,min_iqr = iqr_sh, mode = \"caged\")\n",
    "        RG_1 = generate_int_sample(samp_size,4200,4600,c=const,min_iqr =iqr_rg, mode = \"caged\")\n",
    "    return SH_1,RG_1\n"
   ]
  },
  {
   "cell_type": "code",
   "execution_count": 7,
   "metadata": {},
   "outputs": [],
   "source": [
    "#Generate the data for 2.A:\n",
    "SH = generate_int_sample(40,6300,4600,min_iqr =800,mode = \"caged\")\n",
    "RG =  generate_int_sample(40,4200,4600,c = 500,min_iqr =2000,mode = \"caged\")\n",
    "SH_1,RG_1= Generate_higher_iqr(40,SH,RG,800,2000,500)\n",
    "SH = generate_int_sample(20,6300,4600,min_iqr =600,mode = \"caged\")\n",
    "RG =  generate_int_sample(20,4200,4600,c = 500,min_iqr =2000,mode = \"caged\")\n",
    "SH_2,RG_2= Generate_higher_iqr(20,SH,RG,600,2000,500)"
   ]
  },
  {
   "cell_type": "code",
   "execution_count": 8,
   "metadata": {},
   "outputs": [
    {
     "name": "stdout",
     "output_type": "stream",
     "text": [
      "SH, Scenario 1\n",
      "Median:4600.0\n",
      "Mean:6300.0\n",
      "IQR:799.75\n",
      "Variance:11804180.811\n",
      "******************************\n",
      "RG, Scenario 1\n",
      "Median:4600.0\n",
      "Mean:4200.0\n",
      "IQR:2500.5\n",
      "Variance:5976267.749\n",
      "******************************\n",
      "Does IQR of rent in RG is higher? **True**\n"
     ]
    },
    {
     "data": {
      "image/png": "[encoded data removed]",
      "text/plain": [
       "<Figure size 720x360 with 2 Axes>"
      ]
     },
     "metadata": {
      "needs_background": "light"
     },
     "output_type": "display_data"
    }
   ],
   "source": [
    "sh1=create_hist(SH_1,16000,\"SH\",\"1\")\n",
    "rg1=create_hist(RG_1,22000,\"RG\",\"1\")\n",
    "print(\"Does IQR of rent in RG is higher? **{0}**\".format(stats.iqr(rg1) > stats.iqr(sh1)))\n",
    "#plotting the first scenario\n",
    "fig, ax =plt.subplots(1,2,figsize = (10,5))\n",
    "sh1.hist(bins=100,linewidth=1,color=np.random.rand(3),ax=ax[0])\n",
    "ax[0].set_title(\"SH_Scenario_1\")\n",
    "ax[0].set_xlabel('Rent')\n",
    "ax[0].set_ylabel('cumulative Rent')\n",
    "rg1.hist(bins=100, figsize=(9,9),linewidth=1,color=np.random.rand(3),ax=ax[1])\n",
    "ax[1].set_title(\"RG_Scenario_1\")\n",
    "ax[1].set_xlabel('Rent')\n",
    "ax[1].set_ylabel('cumulative Rent')\n",
    "plt.show()"
   ]
  },
  {
   "cell_type": "code",
   "execution_count": 9,
   "metadata": {},
   "outputs": [
    {
     "name": "stdout",
     "output_type": "stream",
     "text": [
      "SH, Scenario 2\n",
      "Median:4600.0\n",
      "Mean:6300.0\n",
      "IQR:599.25\n",
      "Variance:12296072.805\n",
      "******************************\n",
      "RG, Scenario 2\n",
      "Median:4600.0\n",
      "Mean:4200.0\n",
      "IQR:2500.25\n",
      "Variance:7307102.741\n",
      "******************************\n",
      "Does IQR of rent in RG is higher? **True**\n"
     ]
    },
    {
     "data": {
      "image/png": "[encoded data removed]",
      "text/plain": [
       "<Figure size 720x360 with 2 Axes>"
      ]
     },
     "metadata": {
      "needs_background": "light"
     },
     "output_type": "display_data"
    }
   ],
   "source": [
    "sh2=create_hist(SH_2,16000,\"SH\",\"2\")\n",
    "rg2=create_hist(RG_2,22000,\"RG\",\"2\")\n",
    "print(\"Does IQR of rent in RG is higher? **{0}**\".format(stats.iqr(rg2) > stats.iqr(sh2)))   \n",
    "#plotting the second scenario\n",
    "fig, ax =plt.subplots(1,2,figsize = (10,5))\n",
    "sh2.hist(bins=100,linewidth=1,color=np.random.rand(3),ax=ax[0])\n",
    "ax[0].set_title(\"SH_Scenario_2\")\n",
    "ax[0].set_xlabel('Rent')\n",
    "ax[0].set_ylabel('cumulative Rent')\n",
    "rg2.hist(bins=100, figsize=(9,9),linewidth=1,color=np.random.rand(3),ax=ax[1])\n",
    "ax[1].set_title(\"RG_Scenario_2\")\n",
    "ax[1].set_xlabel('Rent')\n",
    "ax[1].set_ylabel('cumulative Rent')\n",
    "plt.show()"
   ]
  },
  {
   "cell_type": "code",
   "execution_count": 10,
   "metadata": {},
   "outputs": [],
   "source": [
    "def Generate_higher_variance(samp_size,SH_3,RG_3):# a function to iterate  generation of higher iqr & higher variance for SH , because this constrains might diverge from time to time in nonlinear with first guessed solutions optimizations\n",
    "    while (np.var(SH_3) > np.var(RG_3)) == False or (stats.iqr(SH_3) < stats.iqr(RG_3)) == False:\n",
    "        SH_1 = generate_int_sample(samp_size,6300,4600,min_iqr = 600,mode = \"caged\")\n",
    "        RG_1 = generate_int_sample(samp_size,4200,4600,c=500,min_iqr =2000, mode = \"caged\")\n",
    "    return SH_3,RG_3"
   ]
  },
  {
   "cell_type": "code",
   "execution_count": 11,
   "metadata": {},
   "outputs": [],
   "source": [
    "#Generate the data for 2.B:\n",
    "SH = generate_int_sample(25,6300,4600,min_iqr = 600, mode = \"caged\")\n",
    "RG =  generate_int_sample(25,4200,4600,c=500,min_iqr =2000, mode = \"caged\")\n",
    "SH_3,RG_3= Generate_higher_variance(25,SH,RG)"
   ]
  },
  {
   "cell_type": "code",
   "execution_count": 12,
   "metadata": {},
   "outputs": [
    {
     "name": "stdout",
     "output_type": "stream",
     "text": [
      "SH, Scenario 3\n",
      "Median:4600.0\n",
      "Mean:6300.0\n",
      "IQR:600.0\n",
      "Variance:9586469.714\n",
      "******************************\n",
      "RG, Scenario 3\n",
      "Median:4600.0\n",
      "Mean:4200.0\n",
      "IQR:2409.0\n",
      "Variance:6490545.265\n",
      "******************************\n",
      "Is rent in SH has a higher variance than the rent in RG? **True**\n"
     ]
    },
    {
     "data": {
      "image/png": "[encoded data removed]",
      "text/plain": [
       "<Figure size 720x360 with 2 Axes>"
      ]
     },
     "metadata": {
      "needs_background": "light"
     },
     "output_type": "display_data"
    }
   ],
   "source": [
    "sh3=create_hist(SH_3,16000,\"SH\",\"3\")\n",
    "rg3=create_hist(RG_3,22000,\"RG\",\"3\")\n",
    "print(\"Is rent in SH has a higher variance than the rent in RG? **{0}**\".format(sh3.var()[0] > rg3.var()[0]))  \n",
    "#plotting the third scenario\n",
    "fig, ax =plt.subplots(1,2,figsize = (10,5))\n",
    "sh3.hist(bins=100,linewidth=1,color=np.random.rand(3),ax=ax[0])\n",
    "ax[0].set_title(\"SH_Scenario_3\")\n",
    "ax[0].set_xlabel('Rent')\n",
    "ax[0].set_ylabel('cumulative Rent')\n",
    "rg3.hist(bins=100, figsize=(9,9),linewidth=1,color=np.random.rand(3),ax=ax[1])\n",
    "ax[1].set_title(\"RG_Scenario_3\")\n",
    "ax[1].set_xlabel('Rent')\n",
    "ax[1].set_ylabel('cumulative Rent')\n",
    "plt.show()"
   ]
  },
  {
   "cell_type": "code",
   "execution_count": 13,
   "metadata": {},
   "outputs": [],
   "source": [
    "calc_covar = 3\n",
    "emp_covar = 2\n",
    "while (100*calc_covar/emp_covar) > 101 or (100*calc_covar/emp_covar) < 99: #generate population until you less than 1% deviation\n",
    "    RENT_SH = generate_int_sample(100,6300,4600,min_iqr = 600, mode = \"caged\")\n",
    "    PHIֹ_SH = generate_int_sample(100,12500,12000,data=RENT_SH,alpha=0.97,mode = \"covar\")\n",
    "    sh_rent=create_hist(RENT_SH,16000,\"SH\",\"Rent\",detail=False)\n",
    "    sh_phi=create_hist(PHIֹ_SH,16000,\"SH\",\"PHI\",detail=False)\n",
    "    sh_tot = pd.concat([sh_rent, sh_phi], axis=1)\n",
    "    sh_tot.columns = [\"rent\",\"phi\"]\n",
    "    calc_covar = sh_tot.rent.cov(sh_tot.phi)\n",
    "    emp_covar = np.round(0.97 * (np.var(sh_rent)**0.5) * (np.var(sh_phi)**0.5),3)[0]"
   ]
  },
  {
   "cell_type": "code",
   "execution_count": 14,
   "metadata": {},
   "outputs": [
    {
     "name": "stdout",
     "output_type": "stream",
     "text": [
      "The calculated covariance is 5560336.62\n",
      "The empirical given covariance is 5616127.59\n",
      "The covariances deviate from each other by 0.993406% < 1%\n"
     ]
    },
    {
     "data": {
      "image/png": "[encoded data removed]",
      "text/plain": [
       "<Figure size 576x432 with 1 Axes>"
      ]
     },
     "metadata": {
      "needs_background": "light"
     },
     "output_type": "display_data"
    }
   ],
   "source": [
    "print(\"The calculated covariance is {0:.2f}\".format(calc_covar))\n",
    "print(\"The empirical given covariance is {0:.2f}\".format(emp_covar))\n",
    "print(\"The covariances deviate from each other by {0:.6f}% < 1%\".format(100-100*calc_covar/emp_covar))\n",
    "sns.distplot(sh_tot['rent'],  kde=False, label='Rent')\n",
    "sns.distplot(sh_tot['phi'],  kde=False, label='Per house income')\n",
    "plt.legend(prop={'size': 10})\n",
    "plt.title('Stochastic Heights')\n",
    "plt.xlabel('RCU')\n",
    "plt.ylabel('Cumulative')\n",
    "plt.show()"
   ]
  }
 ],
 "metadata": {
  "kernelspec": {
   "display_name": "Python 3",
   "language": "python",
   "name": "python3"
  },
  "language_info": {
   "codemirror_mode": {
    "name": "ipython",
    "version": 3
   },
   "file_extension": ".py",
   "mimetype": "text/x-python",
   "name": "python",
   "nbconvert_exporter": "python",
   "pygments_lexer": "ipython3",
   "version": "3.8.3"
  }
 },
 "nbformat": 4,
 "nbformat_minor": 4
}
